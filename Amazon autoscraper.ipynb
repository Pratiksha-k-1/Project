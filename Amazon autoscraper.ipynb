{
 "cells": [
  {
   "cell_type": "code",
   "execution_count": 1,
   "id": "df0c9607",
   "metadata": {},
   "outputs": [
    {
     "name": "stdout",
     "output_type": "stream",
     "text": [
      "Collecting autoscraper\n",
      "  Downloading autoscraper-1.1.12-py3-none-any.whl (10 kB)\n",
      "Requirement already satisfied: requests in c:\\users\\pratiksha\\anaconda3\\lib\\site-packages (from autoscraper) (2.25.1)\n",
      "Collecting bs4\n",
      "  Downloading bs4-0.0.1.tar.gz (1.1 kB)\n",
      "Requirement already satisfied: lxml in c:\\users\\pratiksha\\anaconda3\\lib\\site-packages (from autoscraper) (4.6.3)\n",
      "Requirement already satisfied: beautifulsoup4 in c:\\users\\pratiksha\\anaconda3\\lib\\site-packages (from bs4->autoscraper) (4.9.3)\n",
      "Requirement already satisfied: soupsieve>1.2 in c:\\users\\pratiksha\\anaconda3\\lib\\site-packages (from beautifulsoup4->bs4->autoscraper) (2.2.1)\n",
      "Requirement already satisfied: certifi>=2017.4.17 in c:\\users\\pratiksha\\anaconda3\\lib\\site-packages (from requests->autoscraper) (2020.12.5)\n",
      "Requirement already satisfied: chardet<5,>=3.0.2 in c:\\users\\pratiksha\\anaconda3\\lib\\site-packages (from requests->autoscraper) (4.0.0)\n",
      "Requirement already satisfied: urllib3<1.27,>=1.21.1 in c:\\users\\pratiksha\\anaconda3\\lib\\site-packages (from requests->autoscraper) (1.26.4)\n",
      "Requirement already satisfied: idna<3,>=2.5 in c:\\users\\pratiksha\\anaconda3\\lib\\site-packages (from requests->autoscraper) (2.10)\n",
      "Building wheels for collected packages: bs4\n",
      "  Building wheel for bs4 (setup.py): started\n",
      "  Building wheel for bs4 (setup.py): finished with status 'done'\n",
      "  Created wheel for bs4: filename=bs4-0.0.1-py3-none-any.whl size=1273 sha256=5f0f07e59610b0e1b93243a69f863052f44a2aa6b8705ad94c46a89b89f48735\n",
      "  Stored in directory: c:\\users\\pratiksha\\appdata\\local\\pip\\cache\\wheels\\75\\78\\21\\68b124549c9bdc94f822c02fb9aa3578a669843f9767776bca\n",
      "Successfully built bs4\n",
      "Installing collected packages: bs4, autoscraper\n",
      "Successfully installed autoscraper-1.1.12 bs4-0.0.1\n"
     ]
    }
   ],
   "source": [
    "!pip install autoscraper"
   ]
  },
  {
   "cell_type": "code",
   "execution_count": 2,
   "id": "e23d21f7",
   "metadata": {},
   "outputs": [],
   "source": [
    "from autoscraper import AutoScraper"
   ]
  },
  {
   "cell_type": "code",
   "execution_count": 4,
   "id": "24fd5dac",
   "metadata": {},
   "outputs": [],
   "source": [
    "url='https://www.amazon.in/s?k=ipad'\n",
    "\n",
    "wanted_list=['2020 Apple iPad Air with A14 Bionic chip (10.9-inch/27.69 cm, Wi-Fi, 64GB) - Green (4th Generation)','₹54,900',' 3,489']"
   ]
  },
  {
   "cell_type": "code",
   "execution_count": 6,
   "id": "305097d9",
   "metadata": {},
   "outputs": [
    {
     "name": "stdout",
     "output_type": "stream",
     "text": [
      "['2021 Apple 10.2-inch (25.91 cm) iPad with A13 Bionic chip (Wi-Fi, 256GB) - Space Grey (9th Generation)', '2020 Apple iPad Air with A14 Bionic chip (10.9-inch/27.69 cm, Wi-Fi, 64GB) - Green (4th Generation)', '2021 Apple iPad Mini with A15 Bionic chip (Wi-Fi + Cellular, 64GB) - Pink (6th Generation)', '2021 Apple iPad Pro with Apple M1 chip (12.9-inch/32.77 cm, Wi-Fi, 128GB) - Space Grey (5th Generation)', '2021 Apple iPad Pro with Apple M1 chip (11-inch/27.96 cm, Wi-Fi + Cellular, 2TB) - Space Grey (3rd Generation)', 'iPad Mini 7.9 inch Wi-Fi+Cellular  256 GB Silver+Apple Pencil (1st Generation)', 'Samsung Galaxy Tab A7 26.31 cm (10.4 inch), Slim Metal Body, Quad Speakers with Dolby Atmos, RAM 3 GB, ROM 32 GB Expandable, Wi-Fi-only, Gold', 'elevn eTab11 Max Pro Tablet with Keyboard (10.1-inch, Magnetic Docking Keyboard, 4GB | 128GB, Wi-Fi + 4G LTE + Voice Calling, Dual Sim, 7000 mAh Battery), Aluminium Grey', 'Lenovo Yoga Smart Tablet with The Google Assistant (10.1 inch, 4GB, 64GB, WiFi + 4G LTE), Iron Grey + Cover', 'Lenovo Tab M10 HD Tablet (10.1-inch, 2GB, 32GB, Wi-Fi + 4G LTE, Volte Calling), Slate Black + Cover', 'I KALL N9 3G Calling Tablet (7 Inch Display, 2GB, 16GB) (Black)', 'Lenovo Tab P11 (11 inch / 27.94 cms, 4 GB, 128 GB, Wi-Fi + LTE, Data Only), Platinum Grey + Logitech K480 Bluetooth Keyboard', 'Samsung Galaxy Tab A8 26.69 cm (10.5 inch) Display, RAM 3 GB, ROM 32 GB Expandable, Wi-Fi Tablet, Silver', 'Lenovo Tab M8 FHD (8 inch/20 cm, 4 GB, 64 GB, Wi-Fi+LTE, Calling) + Cover', 'Best sellerin Tablets', 'Lenovo Tab K10 FHD (10.3 inch (26.16 cm), 4GB, 64GB, Wi-Fi+LTE, Calling), Abyss Blue', 'Lenovo Tab M10 FHD Plus Tablet (26.16 cm (10.3-inch), 4GB, 128GB, Wi-Fi + LTE, Volte Calling), Platinum Grey', 'Samsung Galaxy Tab A7 26.31 cm (10.4 inch), Slim Metal Body, Quad Speakers with Dolby Atmos, RAM 3 GB, ROM 32 GB Expandabl...', 'elevn eTab11 Max Pro Tablet with Keyboard (10.1-inch, Magnetic Docking Keyboard, 4GB | 128GB, Wi-Fi + 4G LTE + Voice Calli...', '₹44,900', '₹54,900', '₹60,900', '₹99,900', '₹1,84,900', '₹68,150', '₹15,999', '₹20,999', '₹16,990', '₹34,990', '₹20,409', '₹37,499', '₹12,598', '₹22,999', '₹4,749', '₹6,999', '₹25,294', '₹40,295', '₹17,999', '₹21,599', '₹15,548', '₹26,999', '₹16,999', '₹32,000', '₹19,499', '₹35,000', '505', '3,489', '30', '243', '1,064', '2', '12,052', '102', '294', '2,523', '1', '424', '8', '4', '456', '13,680']\n"
     ]
    }
   ],
   "source": [
    "scraper=AutoScraper()\n",
    "result=scraper.build(url,wanted_list)\n",
    "print(result)"
   ]
  },
  {
   "cell_type": "code",
   "execution_count": 7,
   "id": "5b27d259",
   "metadata": {},
   "outputs": [
    {
     "data": {
      "text/plain": [
       "{'rule_kiyn': ['2021 Apple 10.2-inch (25.91 cm) iPad with A13 Bionic chip (Wi-Fi, 256GB) - Space Grey (9th Generation)',\n",
       "  '2020 Apple iPad Air with A14 Bionic chip (10.9-inch/27.69 cm, Wi-Fi, 64GB) - Sky Blue (4th Generation)',\n",
       "  '2021 Apple iPad Pro with Apple M1 chip (11-inch/27.96 cm, Wi-Fi + Cellular, 512GB) - Space Grey (3rd Generation)',\n",
       "  '2021 Apple iPad Pro with Apple M1 chip (12.9-inch/32.77 cm, Wi-Fi, 128GB) - Space Grey (5th Generation)',\n",
       "  '2019 Apple iPad Mini with A12 Bionic chip (7.9-inch/20.1 cm, Wi‐Fi + Cellular, 256GB) - Silver (5th Generation)',\n",
       "  '2021 Apple iPad Mini with A15 Bionic chip (Wi-Fi + Cellular, 256GB) - Pink (6th Generation)',\n",
       "  'Samsung Galaxy Tab A7 26.31 cm (10.4 inch), Slim Metal Body, Quad Speakers with Dolby Atmos, RAM 3 GB, ROM 32 GB Expandable, Wi-Fi-only, Gold',\n",
       "  'elevn eTab11 Max Pro Tablet with Keyboard (10.1-inch, Magnetic Docking Keyboard, 4GB | 128GB, Wi-Fi + 4G LTE + Voice Calling, Dual Sim, 7000 mAh Battery), Aluminium Grey',\n",
       "  'Lenovo Yoga Smart Tablet with The Google Assistant (10.1 inch, 4GB, 64GB, WiFi + 4G LTE), Iron Grey + Cover',\n",
       "  'Lenovo Tab M10 HD Tablet (10.1-inch, 2GB, 32GB, Wi-Fi + 4G LTE, Volte Calling), Slate Black + Cover',\n",
       "  'Lenovo Tab P11 (11 inch / 27.94 cms, 4 GB, 128 GB, Wi-Fi + LTE, Data Only), Platinum Grey + Logitech K480 Bluetooth Keyboard',\n",
       "  'Best sellerin Tablets',\n",
       "  'Lenovo Tab K10 FHD (10.3 inch (26.16 cm), 4GB, 64GB, Wi-Fi+LTE, Calling), Abyss Blue',\n",
       "  'Lenovo Tab M10 FHD Plus Tablet (26.16 cm (10.3-inch), 4GB, 128GB, Wi-Fi + LTE, Volte Calling), Platinum Grey',\n",
       "  'Lenovo Smart Tab M10 FHD Plus (2nd Gen) with Google Assistant (4GB/ 128GB/ 10.3 inches/WiFi + Calling) ZA6S0003IN',\n",
       "  'Lenovo Tab P11 Pro (11.5 inch, 6GB, 128GB, Wi-Fi+LTE), Slate Grey with Keyboard and Precision Pen',\n",
       "  'TCL Tab 10 (10.1 inches WUXGA Display, 3GB+32GB, 5500mAh, Wi-Fi only Tablet (Black) (9061(Black))'],\n",
       " 'rule_jzye': ['2021 Apple 10.2-inch (25.91 cm) iPad with A13 Bionic chip (Wi-Fi, 256GB) - Space Grey (9th Generation)',\n",
       "  '2020 Apple iPad Air with A14 Bionic chip (10.9-inch/27.69 cm, Wi-Fi, 64GB) - Sky Blue (4th Generation)',\n",
       "  '2021 Apple iPad Pro with Apple M1 chip (11-inch/27.96 cm, Wi-Fi + Cellular, 512GB) - Space Grey (3rd Generation)',\n",
       "  '2021 Apple iPad Pro with Apple M1 chip (12.9-inch/32.77 cm, Wi-Fi, 128GB) - Space Grey (5th Generation)',\n",
       "  '2019 Apple iPad Mini with A12 Bionic chip (7.9-inch/20.1 cm, Wi‐Fi + Cellular, 256GB) - Silver (5th Generation)',\n",
       "  '2021 Apple iPad Mini with A15 Bionic chip (Wi-Fi + Cellular, 256GB) - Pink (6th Generation)',\n",
       "  'Samsung Galaxy Tab A7 26.31 cm (10.4 inch), Slim Metal Body, Quad Speakers with Dolby Atmos, RAM 3 GB, ROM 32 GB Expandabl...',\n",
       "  'elevn eTab11 Max Pro Tablet with Keyboard (10.1-inch, Magnetic Docking Keyboard, 4GB | 128GB, Wi-Fi + 4G LTE + Voice Calli...',\n",
       "  'Lenovo Yoga Smart Tablet with The Google Assistant (10.1 inch, 4GB, 64GB, WiFi + 4G LTE), Iron Grey + Cover',\n",
       "  'Lenovo Tab M10 HD Tablet (10.1-inch, 2GB, 32GB, Wi-Fi + 4G LTE, Volte Calling), Slate Black + Cover',\n",
       "  'Lenovo Tab P11 (11 inch / 27.94 cms, 4 GB, 128 GB, Wi-Fi + LTE, Data Only), Platinum Grey + Logitech K480 Bluetooth Keyboard',\n",
       "  'Lenovo Tab K10 FHD (10.3 inch (26.16 cm), 4GB, 64GB, Wi-Fi+LTE, Calling), Abyss Blue',\n",
       "  'Lenovo Tab M10 FHD Plus Tablet (26.16 cm (10.3-inch), 4GB, 128GB, Wi-Fi + LTE, Volte Calling), Platinum Grey',\n",
       "  'Lenovo Smart Tab M10 FHD Plus (2nd Gen) with Google Assistant (4GB/ 128GB/ 10.3 inches/WiFi + Calling) ZA6S0003IN',\n",
       "  'Lenovo Tab P11 Pro (11.5 inch, 6GB, 128GB, Wi-Fi+LTE), Slate Grey with Keyboard and Precision Pen',\n",
       "  'TCL Tab 10 (10.1 inches WUXGA Display, 3GB+32GB, 5500mAh, Wi-Fi only Tablet (Black) (9061(Black))'],\n",
       " 'rule_rels': ['₹44,900',\n",
       "  '₹54,900',\n",
       "  '₹1,12,900',\n",
       "  '₹99,900',\n",
       "  '₹59,900',\n",
       "  '₹74,899',\n",
       "  '₹74,900',\n",
       "  '₹15,999',\n",
       "  '₹20,999',\n",
       "  '₹16,990',\n",
       "  '₹34,990',\n",
       "  '₹20,409',\n",
       "  '₹37,499',\n",
       "  '₹12,598',\n",
       "  '₹22,999',\n",
       "  '₹25,294',\n",
       "  '₹40,295',\n",
       "  '₹16,999',\n",
       "  '₹32,000',\n",
       "  '₹19,499',\n",
       "  '₹35,000',\n",
       "  '₹19,999',\n",
       "  '₹36,000',\n",
       "  '₹53,488',\n",
       "  '₹77,000',\n",
       "  '₹13,999',\n",
       "  '₹25,999'],\n",
       " 'rule_3gn3': ['₹44,900',\n",
       "  '₹54,900',\n",
       "  '₹1,12,900',\n",
       "  '₹99,900',\n",
       "  '₹59,900',\n",
       "  '₹74,899',\n",
       "  '₹74,900',\n",
       "  '₹15,999',\n",
       "  '₹20,999',\n",
       "  '₹16,990',\n",
       "  '₹34,990',\n",
       "  '₹20,409',\n",
       "  '₹37,499',\n",
       "  '₹12,598',\n",
       "  '₹22,999',\n",
       "  '₹25,294',\n",
       "  '₹40,295',\n",
       "  '₹16,999',\n",
       "  '₹32,000',\n",
       "  '₹19,499',\n",
       "  '₹35,000',\n",
       "  '₹19,999',\n",
       "  '₹36,000',\n",
       "  '₹53,488',\n",
       "  '₹77,000',\n",
       "  '₹13,999',\n",
       "  '₹25,999'],\n",
       " 'rule_25ql': ['505',\n",
       "  '3,489',\n",
       "  '1,064',\n",
       "  '243',\n",
       "  '2,043',\n",
       "  '30',\n",
       "  '12,052',\n",
       "  '102',\n",
       "  '294',\n",
       "  '2,523',\n",
       "  '424',\n",
       "  '456',\n",
       "  '13,680',\n",
       "  '8',\n",
       "  '183',\n",
       "  '1'],\n",
       " 'rule_l2ef': ['3,489', '3,489'],\n",
       " 'rule_zk0v': ['3,489', '3,489']}"
      ]
     },
     "execution_count": 7,
     "metadata": {},
     "output_type": "execute_result"
    }
   ],
   "source": [
    "scraper.get_result_similar(url,grouped=True)"
   ]
  },
  {
   "cell_type": "code",
   "execution_count": 14,
   "id": "4dd88735",
   "metadata": {},
   "outputs": [],
   "source": [
    "scraper.set_rule_aliases({'rule_kiyn':'Title','rule_rels':'Price'})\n",
    "scraper.keep_rules(['rule_kiyn','rule_rels'])\n",
    "scraper.save('amazon_search')"
   ]
  },
  {
   "cell_type": "code",
   "execution_count": 21,
   "id": "2d3f40bb",
   "metadata": {},
   "outputs": [],
   "source": [
    "results=scraper.get_result_similar('https://www.amazon.in/s?k=tablet+lenovo',group_by_alias=True)"
   ]
  },
  {
   "cell_type": "code",
   "execution_count": 22,
   "id": "c34bcf6c",
   "metadata": {},
   "outputs": [
    {
     "data": {
      "text/plain": [
       "['Amazon\\'s Choicefor \"tablet lenovo\"',\n",
       " 'Lenovo Tab M10 FHD Plus Tablet (26.16 cm (10.3-inch), 4GB, 128GB, Wi-Fi + LTE, Volte Calling), Platinum Grey',\n",
       " 'Lenovo Tab M10 HD 2nd Gen (25.65 cm (10.1 inch), 2 GB, 32 GB, Wi-Fi) with Metallic Body and Octa core Processor',\n",
       " 'Lenovo Yoga Smart Tablet with The Google Assistant 25.65 cm (10.1 inch, 4GB, 64GB, WiFi + 4G LTE), Iron Grey',\n",
       " 'Best sellerin Tablets',\n",
       " 'Lenovo Tab K10 FHD (10.3 inch (26.16 cm), 4GB, 64GB, Wi-Fi+LTE, Calling), Abyss Blue',\n",
       " 'Lenovo Tab M10 HD Tablet (10.1-inch, 2GB, 32GB, Wi-Fi + 4G LTE, Volte Calling), Slate Black',\n",
       " 'Lenovo Tab M8 FHD (8 inch, 4 GB, 64 GB, Wi-Fi+LTE, Calling), Grey',\n",
       " 'Lenovo Tab M7 3rd Gen (7 inch, 2 GB, 32 GB, Wi-fi Only), Iron Grey',\n",
       " 'Lenovo Tab M8 HD 2nd Gen (8 inch, 3GB, 32 GB, Wi-Fi+LTE), Iron Grey',\n",
       " 'Lenovo Tab M10 HD Tablet (10.1 inch, 2GB, 32GB, Wi-Fi Only) Slate Black',\n",
       " 'Lenovo Tab M7 (7-inch/17.78 cm, 2GB, 32 GB,Wi-fi+4G LTE), Onyx Black (Tab M7-7305X)',\n",
       " 'Lenovo Tab P11 (11 inch / 27.94 cms, 4 GB, 128 GB, Wi-Fi + LTE, Data Only), Platinum Grey',\n",
       " 'Lenovo Calling Tab M8 2nd Gen Tablet (8-inch, 2GB, 32GB, Wi-Fi + 4G LTE + Calling), Iron Grey',\n",
       " 'Lenovo Tab M10 FHD REL 25.65 cm (10.1 inch, 4 GB, 64 GB, Wi-Fi+LTE)',\n",
       " 'Lenovo Tab Yoga 11 (11 inch/ 27.94 cm, 4GB, 128GB,Wi-Fi+ LTE), Storm Grey',\n",
       " 'Lenovo Tab V7 PB-6505MC 2GB RAM 16GB Storage Qualcomm Snapdragon 450 Octa Core 5180mAh 6.9 inches (Black)',\n",
       " '(Renewed) Lenovo Tab M10 FHD Plus Tablet (10.3-inch, 2GB, 32GB, Wi-Fi + LTE, Volte Calling), Platinum Grey']"
      ]
     },
     "execution_count": 22,
     "metadata": {},
     "output_type": "execute_result"
    }
   ],
   "source": [
    "results['Title']"
   ]
  },
  {
   "cell_type": "code",
   "execution_count": null,
   "id": "789ce304",
   "metadata": {},
   "outputs": [],
   "source": []
  }
 ],
 "metadata": {
  "kernelspec": {
   "display_name": "Python 3",
   "language": "python",
   "name": "python3"
  },
  "language_info": {
   "codemirror_mode": {
    "name": "ipython",
    "version": 3
   },
   "file_extension": ".py",
   "mimetype": "text/x-python",
   "name": "python",
   "nbconvert_exporter": "python",
   "pygments_lexer": "ipython3",
   "version": "3.8.8"
  }
 },
 "nbformat": 4,
 "nbformat_minor": 5
}
